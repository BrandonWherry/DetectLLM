{
 "cells": [
  {
   "cell_type": "code",
   "execution_count": 6,
   "metadata": {},
   "outputs": [],
   "source": [
    "import openai\n",
    "\n",
    "openai.api_key = \"EMPTY\"\n",
    "openai.api_base = \"http://ailadgx-gpu80.utsarr.net:8080/v1\"\n",
    "\n",
    "\n",
    "openai.api_key = \"EMPTY\"\n",
    "openai.api_base = \"http://127.0.0.1:8080/v1\"\n",
    "\n",
    "input = \"Hello, can you tell me how you're doing?\"\n",
    "\n",
    "\n",
    "def chat_prompt(user_input: str) -> str:\n",
    "    return (\n",
    "        'You\\'re an AI assistant, respond politely and honestly to the USER.\\n'\n",
    "        'Only write one AI response.\\n'\n",
    "        f'USER: {user_input}\\n'\n",
    "        'AI: '\n",
    "    )\n",
    "\n",
    "completion = openai.Completion.create(\n",
    "    model=\"../../aila-llama2-13b-hf\",\n",
    "    prompt=chat_prompt(input),\n",
    "    max_tokens=256,\n",
    "    logprobs=1,\n",
    "\n",
    ")\n",
    "\n"
   ]
  },
  {
   "cell_type": "code",
   "execution_count": 9,
   "metadata": {},
   "outputs": [
    {
     "name": "stdout",
     "output_type": "stream",
     "text": [
      "[0, 6, 7, 9, 10, 11, 20, 23, 32, 36, 42, 45, 52, 56, 61, 65, 71, 74, 84, 88, 92, 97, 98, 102, 106, 108, 113, 117, 123, 124]\n"
     ]
    }
   ],
   "source": [
    "\n",
    "print(completion['choices'][0]['logprobs']['text_offset'])\n",
    "\n",
    "ai_response = completion['choices'][0]['text'].strip()\n"
   ]
  },
  {
   "cell_type": "code",
   "execution_count": null,
   "metadata": {},
   "outputs": [],
   "source": []
  }
 ],
 "metadata": {
  "kernelspec": {
   "display_name": "Python 3",
   "language": "python",
   "name": "python3"
  },
  "language_info": {
   "codemirror_mode": {
    "name": "ipython",
    "version": 3
   },
   "file_extension": ".py",
   "mimetype": "text/x-python",
   "name": "python",
   "nbconvert_exporter": "python",
   "pygments_lexer": "ipython3",
   "version": "3.8.17"
  },
  "orig_nbformat": 4
 },
 "nbformat": 4,
 "nbformat_minor": 2
}
