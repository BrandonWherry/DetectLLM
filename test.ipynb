{
 "cells": [
  {
   "cell_type": "code",
   "execution_count": null,
   "metadata": {},
   "outputs": [],
   "source": [
    "import openai\n",
    "\n",
    "openai.api_key = \"EMPTY\"\n",
    "openai.api_base = \"http://ailadgx-gpu80.utsarr.net:8080/v1\"\n",
    "\n",
    "input = \"Hello, can you tell me how you're doing?\"\n",
    "\n",
    "\n",
    "def chat_prompt(user_input: str) -> str:\n",
    "    return (\n",
    "        'You\\'re an AI assistant, respond politely and honestly to the USER.\\n'\n",
    "        'Only write one AI response.\\n'\n",
    "        f'USER: {user_input}\\n'\n",
    "        'AI: '\n",
    "    )\n",
    "\n",
    "completion = openai.Completion.create(\n",
    "    model=\"../../Llama-2-13b-chat-hf\",\n",
    "    prompt=chat_prompt(input),\n",
    "    max_tokens=256,\n",
    ")\n",
    "\n"
   ]
  }
 ],
 "metadata": {
  "language_info": {
   "name": "python"
  },
  "orig_nbformat": 4
 },
 "nbformat": 4,
 "nbformat_minor": 2
}
